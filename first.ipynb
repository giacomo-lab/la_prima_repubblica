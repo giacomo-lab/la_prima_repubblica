{
 "cells": [
  {
   "cell_type": "code",
   "execution_count": 13,
   "metadata": {},
   "outputs": [],
   "source": [
    "from neo4j import GraphDatabase\n",
    "import os\n",
    "\n",
    "uri = \"neo4j+s://5035e6af.databases.neo4j.io\"\n",
    "user = \"neo4j\"\n",
    "password = os.getenv('NEO4J_PASSWORD')\n",
    "\n",
    "driver = GraphDatabase.driver(uri, auth=(user, password))"
   ]
  },
  {
   "cell_type": "code",
   "execution_count": 8,
   "metadata": {},
   "outputs": [],
   "source": [
    "def create_person_node(tx, name, properties):\n",
    "    tx.run(\"CREATE (a:Person {name: $name, role: $role})\", name=name, role=properties['role'])\n",
    "\n",
    "def create_entity_node(tx, name, properties):\n",
    "    tx.run(\"CREATE (e:Entity {name: $name})\", name=name)\n",
    "\n",
    "def create_relationship(tx, person, entity, relation, properties):\n",
    "    if relation == \"KNOWS\":\n",
    "        tx.run(f\"MATCH (p:Person {{name: $person}}), (e:Entity {{name: $entity}}) \"\n",
    "               f\"CREATE (p)-[:{relation} {{since: $since}}]->(e)\", \n",
    "               person=person, entity=entity, since=properties['since'])\n",
    "    else:\n",
    "        tx.run(f\"MATCH (p:Person {{name: $person}}), (e:Entity {{name: $entity}}) \"\n",
    "               f\"CREATE (p)-[:{relation} {{start_date: $start_date, end_date: $end_date}}]->(e)\", \n",
    "               person=person, entity=entity, start_date=properties['start_date'], end_date=properties['end_date'])"
   ]
  },
  {
   "cell_type": "code",
   "execution_count": null,
   "metadata": {},
   "outputs": [],
   "source": [
    "\n",
    "with driver.session() as session:\n",
    "    session.execute_write(create_person_node, \"Andreotti\", {\"name\": \"Giulio Andreotti\", \"role\": \"Politician\"})\n",
    "    session.execute_write(create_person_node, \"Moro\", {\"name\": \"Aldo Moro\", \"role\": \"Politician\"})\n",
    "    session.execute_write(create_person_node, \"Berlinguer\", {\"name\": \"Enrico Berlinguer\", \"role\": \"Politician\"})\n",
    "    session.execute_write(create_person_node, \"Neni\", {\"name\": \"Francesco Cossiga\", \"role\": \"Politician\"})\n",
    "\n",
    "    session.execute_write(create_entity_node, \"DC\", {\"name\": \"Democrazia Cristiana\"})\n",
    "    session.execute_write(create_entity_node, \"PC\", {\"name\": \"Partito Comunista\"})\n",
    "    session.execute_write(create_entity_node, \"PS\", {\"name\": \"Partito Socialista\"})\n",
    "\n",
    "    session.execute_write(create_relationship, \"Andreotti\", \"DC\", \"MEMBER\", {\"start_date\": \"01-01-1960\", \"end_date\": \"31-12-1992\"})\n",
    "    session.execute_write(create_relationship, \"Moro\", \"DC\", \"MEMBER\", {\"start_date\": \"01-01-1960\", \"end_date\": \"31-12-1978\"})\n",
    "    session.execute_write(create_relationship, \"Berlinguer\", \"PC\", \"MEMBER\", {\"start_date\": \"01-01-1963\", \"end_date\": \"31-12-1984\"})\n",
    "    session.execute_write(create_relationship, \"Neni\", \"PS\", \"MEMBER\", {\"start_date\": \"01-01-1970\", \"end_date\": \"31-12-1987\"})\n",
    "\n",
    "    session.execute_write(create_relationship, \"Andreotti\", \"Moro\", \"KNOWS\", {\"since\": \"01-01-1960\"})"
   ]
  },
  {
   "cell_type": "code",
   "execution_count": null,
   "metadata": {},
   "outputs": [],
   "source": [
    "open ~/.zshrc"
   ]
  }
 ],
 "metadata": {
  "kernelspec": {
   "display_name": "la_prima_repubblica",
   "language": "python",
   "name": "python3"
  },
  "language_info": {
   "codemirror_mode": {
    "name": "ipython",
    "version": 3
   },
   "file_extension": ".py",
   "mimetype": "text/x-python",
   "name": "python",
   "nbconvert_exporter": "python",
   "pygments_lexer": "ipython3",
   "version": "3.9.7"
  }
 },
 "nbformat": 4,
 "nbformat_minor": 2
}
